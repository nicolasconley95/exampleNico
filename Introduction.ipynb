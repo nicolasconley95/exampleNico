{
 "cells": [
  {
   "cell_type": "markdown",
   "metadata": {},
   "source": [
    "### 1. Introduction\n",
    "\n",
    "In this report there will be presented the methodology used to find a location for a new Barbershop in Florida, US. To do so, a market study will be made to better understand and select the most profitable areas in the State. The main target of this study is people interested in opening their own business, but do not know where to place it. Therefore, it will present information and a list of the top 5 places to open such business, in the authors opinion.\n",
    "\n",
    "According to a Forbes article from mid 2017, barbershops are back in trend: \n",
    ">_\"While soft goods retailers are shuttering stores in record numbers, a cultural resurgence of men's grooming, estimated to reach $26B by 2020, has barbers, brokers and landlords lining up to get their cut.\"_\n",
    "\n",
    "<img src=\"https://www.carloscondepeluqueros.com/wp-content/uploads/2019/05/barber-shop-cabecera.png\" title=\"www.carloscondepeluqueros.com\" width = 300>\n",
    "\n",
    "\n",
    "In addition, an article from the US Census Bureau claims that there is an opportunity in this kind of business, according to de article \n",
    ">_\"While more than half of US counties (2,400) have no barber shops, there are only 802 with no beauty salon. Men in these counties probably go to the local beauty salon to get their hair cut\"._   \n",
    "\n",
    "This shows that even with a growing trend, the country still has a major lack of stores available for their costumers. This statement will be tested and analyzed in the following discussions."
   ]
  },
  {
   "cell_type": "code",
   "execution_count": null,
   "metadata": {},
   "outputs": [],
   "source": []
  }
 ],
 "metadata": {
  "kernelspec": {
   "display_name": "Python",
   "language": "python",
   "name": "conda-env-python-py"
  },
  "language_info": {
   "codemirror_mode": {
    "name": "ipython",
    "version": 3
   },
   "file_extension": ".py",
   "mimetype": "text/x-python",
   "name": "python",
   "nbconvert_exporter": "python",
   "pygments_lexer": "ipython3",
   "version": "3.6.10"
  }
 },
 "nbformat": 4,
 "nbformat_minor": 4
}
