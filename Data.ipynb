{
 "cells": [
  {
   "cell_type": "markdown",
   "metadata": {},
   "source": [
    "### 2. Data\n",
    "\n",
    "All data will be obtain from the US Census Bureau, DataUSA, FRED and Foursquare. Since there is very little information, many assumptions will be justified later.\n",
    "\n",
    "The plot below shows the total revenue for barbershops between the year 1999 to 2018 (data extracted from fred.stlouisfed.org)\n",
    "\n",
    "<img src=\"https://raw.githubusercontent.com/nicolasconley95/exampleNico/master/revenue.png\" width=600 title=\"revenue.png\">\n",
    "\n",
    "From the Revenue Graph above, a clear revenue increase can be observable starting in the year 2013."
   ]
  },
  {
   "cell_type": "code",
   "execution_count": null,
   "metadata": {},
   "outputs": [],
   "source": []
  }
 ],
 "metadata": {
  "kernelspec": {
   "display_name": "Python",
   "language": "python",
   "name": "conda-env-python-py"
  },
  "language_info": {
   "codemirror_mode": {
    "name": "ipython",
    "version": 3
   },
   "file_extension": ".py",
   "mimetype": "text/x-python",
   "name": "python",
   "nbconvert_exporter": "python",
   "pygments_lexer": "ipython3",
   "version": "3.6.10"
  }
 },
 "nbformat": 4,
 "nbformat_minor": 4
}
